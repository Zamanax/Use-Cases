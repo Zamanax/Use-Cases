{
 "cells": [
  {
   "cell_type": "markdown",
   "metadata": {},
   "source": [
    "# Exploration et test de modèles de prédiction du prix de l'habitation sur le dataset des Demandes de Valeurs Foncières sur le département du Seine et Marne"
   ]
  },
  {
   "cell_type": "markdown",
   "metadata": {},
   "source": [
    "## 1. Téléchargement des données"
   ]
  },
  {
   "cell_type": "markdown",
   "metadata": {},
   "source": [
    "La section suivante permet de télécharger les données depuis le site data.gouv.fr. Les données sont téléchargées dans le dossier `data/`\n",
    "\n",
    "Elles sont disponibles à l'adresse suivante : <https://www.data.gouv.fr/fr/datasets/demandes-de-valeurs-foncieres/>"
   ]
  },
  {
   "cell_type": "code",
   "execution_count": 1,
   "metadata": {},
   "outputs": [
    {
     "data": {
      "application/vnd.jupyter.widget-view+json": {
       "model_id": "a8258f2d423e4df595658b8623d9596e",
       "version_major": 2,
       "version_minor": 0
      },
      "text/plain": [
       "  0%|          | 0/6 [00:00<?, ?it/s]"
      ]
     },
     "metadata": {},
     "output_type": "display_data"
    }
   ],
   "source": [
    "import os\n",
    "import requests\n",
    "from tqdm.notebook import tqdm\n",
    "\n",
    "def download_data():\n",
    "    if \"data\" not in os.listdir():\n",
    "        os.mkdir(\"data\")\n",
    "\n",
    "    # Fetch urls\n",
    "    r = requests.get(\n",
    "        \"https://www.data.gouv.fr/fr/datasets/demandes-de-valeurs-foncieres/\")\n",
    "    urls = set([url.split('\"')[1] for url in r.text.split()\n",
    "                if \"valeursfoncieres-\" in url and \"txt\" in url])\n",
    "\n",
    "    for idx, url in enumerate(tqdm(urls)):\n",
    "        local_filename = url.split('/')[-1].split('.')[0] + \".txt\"\n",
    "        if local_filename not in os.listdir(\"data\"):\n",
    "            print(f\"Downloading {url}\")\n",
    "            with requests.get(url, stream=True) as r:\n",
    "                r.raise_for_status()\n",
    "                with open(f\"data/{url.split('/')[-1].split('.')[0]}.txt\", 'wb') as f:\n",
    "                    for chunk in r.iter_content(chunk_size=8192):\n",
    "                        f.write(chunk)\n",
    "download_data()"
   ]
  },
  {
   "cell_type": "markdown",
   "metadata": {},
   "source": [
    "## 2. Chargement des données"
   ]
  },
  {
   "cell_type": "code",
   "execution_count": 2,
   "metadata": {},
   "outputs": [
    {
     "data": {
      "application/vnd.jupyter.widget-view+json": {
       "model_id": "3735acd0dbd447ee857b294ab7903d66",
       "version_major": 2,
       "version_minor": 0
      },
      "text/plain": [
       "  0%|          | 0/7 [00:00<?, ?it/s]"
      ]
     },
     "metadata": {},
     "output_type": "display_data"
    },
    {
     "data": {
      "text/html": [
       "<div>\n",
       "<style scoped>\n",
       "    .dataframe tbody tr th:only-of-type {\n",
       "        vertical-align: middle;\n",
       "    }\n",
       "\n",
       "    .dataframe tbody tr th {\n",
       "        vertical-align: top;\n",
       "    }\n",
       "\n",
       "    .dataframe thead th {\n",
       "        text-align: right;\n",
       "    }\n",
       "</style>\n",
       "<table border=\"1\" class=\"dataframe\">\n",
       "  <thead>\n",
       "    <tr style=\"text-align: right;\">\n",
       "      <th></th>\n",
       "      <th>No disposition</th>\n",
       "      <th>Date mutation</th>\n",
       "      <th>Nature mutation</th>\n",
       "      <th>Valeur fonciere</th>\n",
       "      <th>No voie</th>\n",
       "      <th>Type de voie</th>\n",
       "      <th>Code voie</th>\n",
       "      <th>Voie</th>\n",
       "      <th>Code postal</th>\n",
       "      <th>Commune</th>\n",
       "      <th>...</th>\n",
       "      <th>Code commune</th>\n",
       "      <th>Section</th>\n",
       "      <th>No plan</th>\n",
       "      <th>Nombre de lots</th>\n",
       "      <th>Code type local</th>\n",
       "      <th>Type local</th>\n",
       "      <th>Surface reelle bati</th>\n",
       "      <th>Nombre pieces principales</th>\n",
       "      <th>Nature culture</th>\n",
       "      <th>Surface terrain</th>\n",
       "    </tr>\n",
       "  </thead>\n",
       "  <tbody>\n",
       "    <tr>\n",
       "      <th>0</th>\n",
       "      <td>NaN</td>\n",
       "      <td>NaN</td>\n",
       "      <td>NaN</td>\n",
       "      <td>NaN</td>\n",
       "      <td>NaN</td>\n",
       "      <td>NaN</td>\n",
       "      <td>NaN</td>\n",
       "      <td>NaN</td>\n",
       "      <td>NaN</td>\n",
       "      <td>NaN</td>\n",
       "      <td>...</td>\n",
       "      <td>NaN</td>\n",
       "      <td>NaN</td>\n",
       "      <td>NaN</td>\n",
       "      <td>NaN</td>\n",
       "      <td>NaN</td>\n",
       "      <td>NaN</td>\n",
       "      <td>NaN</td>\n",
       "      <td>NaN</td>\n",
       "      <td>NaN</td>\n",
       "      <td>NaN</td>\n",
       "    </tr>\n",
       "    <tr>\n",
       "      <th>1</th>\n",
       "      <td>NaN</td>\n",
       "      <td>NaN</td>\n",
       "      <td>NaN</td>\n",
       "      <td>NaN</td>\n",
       "      <td>NaN</td>\n",
       "      <td>NaN</td>\n",
       "      <td>NaN</td>\n",
       "      <td>NaN</td>\n",
       "      <td>NaN</td>\n",
       "      <td>NaN</td>\n",
       "      <td>...</td>\n",
       "      <td>NaN</td>\n",
       "      <td>NaN</td>\n",
       "      <td>NaN</td>\n",
       "      <td>NaN</td>\n",
       "      <td>NaN</td>\n",
       "      <td>NaN</td>\n",
       "      <td>NaN</td>\n",
       "      <td>NaN</td>\n",
       "      <td>NaN</td>\n",
       "      <td>NaN</td>\n",
       "    </tr>\n",
       "    <tr>\n",
       "      <th>2</th>\n",
       "      <td>NaN</td>\n",
       "      <td>NaN</td>\n",
       "      <td>NaN</td>\n",
       "      <td>NaN</td>\n",
       "      <td>NaN</td>\n",
       "      <td>NaN</td>\n",
       "      <td>NaN</td>\n",
       "      <td>NaN</td>\n",
       "      <td>NaN</td>\n",
       "      <td>NaN</td>\n",
       "      <td>...</td>\n",
       "      <td>NaN</td>\n",
       "      <td>NaN</td>\n",
       "      <td>NaN</td>\n",
       "      <td>NaN</td>\n",
       "      <td>NaN</td>\n",
       "      <td>NaN</td>\n",
       "      <td>NaN</td>\n",
       "      <td>NaN</td>\n",
       "      <td>NaN</td>\n",
       "      <td>NaN</td>\n",
       "    </tr>\n",
       "    <tr>\n",
       "      <th>3</th>\n",
       "      <td>NaN</td>\n",
       "      <td>NaN</td>\n",
       "      <td>NaN</td>\n",
       "      <td>NaN</td>\n",
       "      <td>NaN</td>\n",
       "      <td>NaN</td>\n",
       "      <td>NaN</td>\n",
       "      <td>NaN</td>\n",
       "      <td>NaN</td>\n",
       "      <td>NaN</td>\n",
       "      <td>...</td>\n",
       "      <td>NaN</td>\n",
       "      <td>NaN</td>\n",
       "      <td>NaN</td>\n",
       "      <td>NaN</td>\n",
       "      <td>NaN</td>\n",
       "      <td>NaN</td>\n",
       "      <td>NaN</td>\n",
       "      <td>NaN</td>\n",
       "      <td>NaN</td>\n",
       "      <td>NaN</td>\n",
       "    </tr>\n",
       "    <tr>\n",
       "      <th>4</th>\n",
       "      <td>NaN</td>\n",
       "      <td>NaN</td>\n",
       "      <td>NaN</td>\n",
       "      <td>NaN</td>\n",
       "      <td>NaN</td>\n",
       "      <td>NaN</td>\n",
       "      <td>NaN</td>\n",
       "      <td>NaN</td>\n",
       "      <td>NaN</td>\n",
       "      <td>NaN</td>\n",
       "      <td>...</td>\n",
       "      <td>NaN</td>\n",
       "      <td>NaN</td>\n",
       "      <td>NaN</td>\n",
       "      <td>NaN</td>\n",
       "      <td>NaN</td>\n",
       "      <td>NaN</td>\n",
       "      <td>NaN</td>\n",
       "      <td>NaN</td>\n",
       "      <td>NaN</td>\n",
       "      <td>NaN</td>\n",
       "    </tr>\n",
       "    <tr>\n",
       "      <th>...</th>\n",
       "      <td>...</td>\n",
       "      <td>...</td>\n",
       "      <td>...</td>\n",
       "      <td>...</td>\n",
       "      <td>...</td>\n",
       "      <td>...</td>\n",
       "      <td>...</td>\n",
       "      <td>...</td>\n",
       "      <td>...</td>\n",
       "      <td>...</td>\n",
       "      <td>...</td>\n",
       "      <td>...</td>\n",
       "      <td>...</td>\n",
       "      <td>...</td>\n",
       "      <td>...</td>\n",
       "      <td>...</td>\n",
       "      <td>...</td>\n",
       "      <td>...</td>\n",
       "      <td>...</td>\n",
       "      <td>...</td>\n",
       "      <td>...</td>\n",
       "    </tr>\n",
       "    <tr>\n",
       "      <th>3627125</th>\n",
       "      <td>1.0</td>\n",
       "      <td>30/12/2019</td>\n",
       "      <td>Vente</td>\n",
       "      <td>1400000,00</td>\n",
       "      <td>24.0</td>\n",
       "      <td>RUE</td>\n",
       "      <td>8752</td>\n",
       "      <td>SAINT SAUVEUR</td>\n",
       "      <td>75002.0</td>\n",
       "      <td>PARIS 02</td>\n",
       "      <td>...</td>\n",
       "      <td>102.0</td>\n",
       "      <td>AM</td>\n",
       "      <td>18.0</td>\n",
       "      <td>3.0</td>\n",
       "      <td>4.0</td>\n",
       "      <td>Local industriel. commercial ou assimilé</td>\n",
       "      <td>100.0</td>\n",
       "      <td>0.0</td>\n",
       "      <td>NaN</td>\n",
       "      <td>NaN</td>\n",
       "    </tr>\n",
       "    <tr>\n",
       "      <th>3627126</th>\n",
       "      <td>1.0</td>\n",
       "      <td>17/12/2019</td>\n",
       "      <td>Adjudication</td>\n",
       "      <td>620000,00</td>\n",
       "      <td>14.0</td>\n",
       "      <td>RUE</td>\n",
       "      <td>7195</td>\n",
       "      <td>PAVEE</td>\n",
       "      <td>75004.0</td>\n",
       "      <td>PARIS 04</td>\n",
       "      <td>...</td>\n",
       "      <td>104.0</td>\n",
       "      <td>AM</td>\n",
       "      <td>14.0</td>\n",
       "      <td>2.0</td>\n",
       "      <td>2.0</td>\n",
       "      <td>Appartement</td>\n",
       "      <td>45.0</td>\n",
       "      <td>2.0</td>\n",
       "      <td>NaN</td>\n",
       "      <td>NaN</td>\n",
       "    </tr>\n",
       "    <tr>\n",
       "      <th>3627127</th>\n",
       "      <td>1.0</td>\n",
       "      <td>05/12/2019</td>\n",
       "      <td>Vente</td>\n",
       "      <td>370000,00</td>\n",
       "      <td>23.0</td>\n",
       "      <td>RUE</td>\n",
       "      <td>7561</td>\n",
       "      <td>POISSONNIERE</td>\n",
       "      <td>75002.0</td>\n",
       "      <td>PARIS 02</td>\n",
       "      <td>...</td>\n",
       "      <td>102.0</td>\n",
       "      <td>AH</td>\n",
       "      <td>67.0</td>\n",
       "      <td>2.0</td>\n",
       "      <td>4.0</td>\n",
       "      <td>Local industriel. commercial ou assimilé</td>\n",
       "      <td>47.0</td>\n",
       "      <td>0.0</td>\n",
       "      <td>NaN</td>\n",
       "      <td>NaN</td>\n",
       "    </tr>\n",
       "    <tr>\n",
       "      <th>3627128</th>\n",
       "      <td>1.0</td>\n",
       "      <td>12/12/2019</td>\n",
       "      <td>Adjudication</td>\n",
       "      <td>44000,00</td>\n",
       "      <td>2.0</td>\n",
       "      <td>RUE</td>\n",
       "      <td>6840</td>\n",
       "      <td>NOTRE DAME DES VICTOIRES</td>\n",
       "      <td>75002.0</td>\n",
       "      <td>PARIS 02</td>\n",
       "      <td>...</td>\n",
       "      <td>102.0</td>\n",
       "      <td>AJ</td>\n",
       "      <td>127.0</td>\n",
       "      <td>1.0</td>\n",
       "      <td>3.0</td>\n",
       "      <td>Dépendance</td>\n",
       "      <td>0.0</td>\n",
       "      <td>0.0</td>\n",
       "      <td>NaN</td>\n",
       "      <td>NaN</td>\n",
       "    </tr>\n",
       "    <tr>\n",
       "      <th>3627129</th>\n",
       "      <td>1.0</td>\n",
       "      <td>26/12/2019</td>\n",
       "      <td>Vente</td>\n",
       "      <td>25000,00</td>\n",
       "      <td>17.0</td>\n",
       "      <td>RUE</td>\n",
       "      <td>1021</td>\n",
       "      <td>BLONDEL</td>\n",
       "      <td>75002.0</td>\n",
       "      <td>PARIS 02</td>\n",
       "      <td>...</td>\n",
       "      <td>102.0</td>\n",
       "      <td>AP</td>\n",
       "      <td>53.0</td>\n",
       "      <td>1.0</td>\n",
       "      <td>2.0</td>\n",
       "      <td>Appartement</td>\n",
       "      <td>4.0</td>\n",
       "      <td>1.0</td>\n",
       "      <td>NaN</td>\n",
       "      <td>NaN</td>\n",
       "    </tr>\n",
       "  </tbody>\n",
       "</table>\n",
       "<p>20146827 rows × 21 columns</p>\n",
       "</div>"
      ],
      "text/plain": [
       "         No disposition Date mutation Nature mutation Valeur fonciere  \\\n",
       "0                   NaN           NaN             NaN             NaN   \n",
       "1                   NaN           NaN             NaN             NaN   \n",
       "2                   NaN           NaN             NaN             NaN   \n",
       "3                   NaN           NaN             NaN             NaN   \n",
       "4                   NaN           NaN             NaN             NaN   \n",
       "...                 ...           ...             ...             ...   \n",
       "3627125             1.0    30/12/2019           Vente      1400000,00   \n",
       "3627126             1.0    17/12/2019    Adjudication       620000,00   \n",
       "3627127             1.0    05/12/2019           Vente       370000,00   \n",
       "3627128             1.0    12/12/2019    Adjudication        44000,00   \n",
       "3627129             1.0    26/12/2019           Vente        25000,00   \n",
       "\n",
       "         No voie Type de voie Code voie                      Voie  \\\n",
       "0            NaN          NaN       NaN                       NaN   \n",
       "1            NaN          NaN       NaN                       NaN   \n",
       "2            NaN          NaN       NaN                       NaN   \n",
       "3            NaN          NaN       NaN                       NaN   \n",
       "4            NaN          NaN       NaN                       NaN   \n",
       "...          ...          ...       ...                       ...   \n",
       "3627125     24.0          RUE      8752             SAINT SAUVEUR   \n",
       "3627126     14.0          RUE      7195                     PAVEE   \n",
       "3627127     23.0          RUE      7561              POISSONNIERE   \n",
       "3627128      2.0          RUE      6840  NOTRE DAME DES VICTOIRES   \n",
       "3627129     17.0          RUE      1021                   BLONDEL   \n",
       "\n",
       "         Code postal   Commune  ... Code commune  Section No plan  \\\n",
       "0                NaN       NaN  ...          NaN      NaN     NaN   \n",
       "1                NaN       NaN  ...          NaN      NaN     NaN   \n",
       "2                NaN       NaN  ...          NaN      NaN     NaN   \n",
       "3                NaN       NaN  ...          NaN      NaN     NaN   \n",
       "4                NaN       NaN  ...          NaN      NaN     NaN   \n",
       "...              ...       ...  ...          ...      ...     ...   \n",
       "3627125      75002.0  PARIS 02  ...        102.0       AM    18.0   \n",
       "3627126      75004.0  PARIS 04  ...        104.0       AM    14.0   \n",
       "3627127      75002.0  PARIS 02  ...        102.0       AH    67.0   \n",
       "3627128      75002.0  PARIS 02  ...        102.0       AJ   127.0   \n",
       "3627129      75002.0  PARIS 02  ...        102.0       AP    53.0   \n",
       "\n",
       "         Nombre de lots  Code type local  \\\n",
       "0                   NaN              NaN   \n",
       "1                   NaN              NaN   \n",
       "2                   NaN              NaN   \n",
       "3                   NaN              NaN   \n",
       "4                   NaN              NaN   \n",
       "...                 ...              ...   \n",
       "3627125             3.0              4.0   \n",
       "3627126             2.0              2.0   \n",
       "3627127             2.0              4.0   \n",
       "3627128             1.0              3.0   \n",
       "3627129             1.0              2.0   \n",
       "\n",
       "                                       Type local Surface reelle bati  \\\n",
       "0                                             NaN                 NaN   \n",
       "1                                             NaN                 NaN   \n",
       "2                                             NaN                 NaN   \n",
       "3                                             NaN                 NaN   \n",
       "4                                             NaN                 NaN   \n",
       "...                                           ...                 ...   \n",
       "3627125  Local industriel. commercial ou assimilé               100.0   \n",
       "3627126                               Appartement                45.0   \n",
       "3627127  Local industriel. commercial ou assimilé                47.0   \n",
       "3627128                                Dépendance                 0.0   \n",
       "3627129                               Appartement                 4.0   \n",
       "\n",
       "         Nombre pieces principales  Nature culture Surface terrain  \n",
       "0                              NaN             NaN             NaN  \n",
       "1                              NaN             NaN             NaN  \n",
       "2                              NaN             NaN             NaN  \n",
       "3                              NaN             NaN             NaN  \n",
       "4                              NaN             NaN             NaN  \n",
       "...                            ...             ...             ...  \n",
       "3627125                        0.0             NaN             NaN  \n",
       "3627126                        2.0             NaN             NaN  \n",
       "3627127                        0.0             NaN             NaN  \n",
       "3627128                        0.0             NaN             NaN  \n",
       "3627129                        1.0             NaN             NaN  \n",
       "\n",
       "[20146827 rows x 21 columns]"
      ]
     },
     "execution_count": 2,
     "metadata": {},
     "output_type": "execute_result"
    }
   ],
   "source": [
    "import pandas as pd\n",
    "\n",
    "dvfDf = pd.concat([pd.read_csv(\n",
    "    f\"data/{file}\", sep=\"|\", low_memory=False) for file in tqdm(os.listdir(\"data\"))])\n",
    "dvfDf = dvfDf.dropna(axis=1, thresh=0.5*len(dvfDf.index))\n",
    "dvfDf"
   ]
  },
  {
   "cell_type": "markdown",
   "metadata": {},
   "source": [
    "## Preprocessing"
   ]
  },
  {
   "cell_type": "code",
   "execution_count": 3,
   "metadata": {},
   "outputs": [],
   "source": [
    "dvfDf[\"Date mutation\"] = pd.to_datetime(\n",
    "    dvfDf[\"Date mutation\"], format=\"%d/%m/%Y\")\n",
    "dvfDf = dvfDf.sort_values(by=\"Date mutation\")"
   ]
  },
  {
   "cell_type": "code",
   "execution_count": 4,
   "metadata": {},
   "outputs": [],
   "source": [
    "dvfDf[\"Code postal\"] = pd.to_numeric(\n",
    "    dvfDf[\"Code postal\"], errors=\"coerce\").astype(\"Int64\")\n",
    "dvfDf[\"Type local\"] = dvfDf[\"Type local\"].astype(\"category\").cat.add_categories(\n",
    "    \"Terrain\").fillna(\"Terrain\").astype(str)\n",
    "dvfDf[\"Nombre pieces principales\"] = pd.to_numeric(\n",
    "    dvfDf[\"Nombre pieces principales\"], errors=\"coerce\").astype(\"Int64\").fillna(0)\n",
    "dvfDf[\"Valeur fonciere\"] = pd.to_numeric(\n",
    "    dvfDf[\"Valeur fonciere\"].str.replace(\",\", \".\"), errors=\"coerce\")"
   ]
  },
  {
   "cell_type": "code",
   "execution_count": 5,
   "metadata": {},
   "outputs": [
    {
     "data": {
      "text/plain": [
       "No disposition               19765458\n",
       "Date mutation                19765458\n",
       "Nature mutation              19765458\n",
       "Valeur fonciere              19569317\n",
       "No voie                      12249314\n",
       "Type de voie                 11839817\n",
       "Code voie                    19599887\n",
       "Voie                         19599312\n",
       "Code postal                  19599070\n",
       "Commune                      19765458\n",
       "Code departement             19765458\n",
       "Code commune                 19765458\n",
       "Section                      19764759\n",
       "No plan                      19765458\n",
       "Nombre de lots               19765458\n",
       "Code type local              11441930\n",
       "Type local                   20146827\n",
       "Surface reelle bati          11428987\n",
       "Nombre pieces principales    20146827\n",
       "Nature culture               13430274\n",
       "Surface terrain              13430274\n",
       "dtype: int64"
      ]
     },
     "execution_count": 5,
     "metadata": {},
     "output_type": "execute_result"
    }
   ],
   "source": [
    "dvfDf.count()"
   ]
  },
  {
   "cell_type": "code",
   "execution_count": 6,
   "metadata": {},
   "outputs": [
    {
     "ename": "ValueError",
     "evalue": "invalid literal for int() with base 10: '77243.0'",
     "output_type": "error",
     "traceback": [
      "\u001b[0;31m---------------------------------------------------------------------------\u001b[0m",
      "\u001b[0;31mValueError\u001b[0m                                Traceback (most recent call last)",
      "\u001b[1;32m/Users/matrice/Documents/Ecole/Use Cases/immobilier_seine_et_marne/preprocess_creation_modele_habitation.ipynb Cell 11\u001b[0m line \u001b[0;36m6\n\u001b[1;32m      <a href='vscode-notebook-cell:/Users/matrice/Documents/Ecole/Use%20Cases/immobilier_seine_et_marne/preprocess_creation_modele_habitation.ipynb#X40sZmlsZQ%3D%3D?line=1'>2</a>\u001b[0m \u001b[39mdel\u001b[39;00m dvfDf\n\u001b[1;32m      <a href='vscode-notebook-cell:/Users/matrice/Documents/Ecole/Use%20Cases/immobilier_seine_et_marne/preprocess_creation_modele_habitation.ipynb#X40sZmlsZQ%3D%3D?line=2'>3</a>\u001b[0m seine_et_marneDf \u001b[39m=\u001b[39m seine_et_marneDf\u001b[39m.\u001b[39mdropna(\n\u001b[1;32m      <a href='vscode-notebook-cell:/Users/matrice/Documents/Ecole/Use%20Cases/immobilier_seine_et_marne/preprocess_creation_modele_habitation.ipynb#X40sZmlsZQ%3D%3D?line=3'>4</a>\u001b[0m     subset\u001b[39m=\u001b[39m[\u001b[39m\"\u001b[39m\u001b[39mValeur fonciere\u001b[39m\u001b[39m\"\u001b[39m])\n\u001b[1;32m      <a href='vscode-notebook-cell:/Users/matrice/Documents/Ecole/Use%20Cases/immobilier_seine_et_marne/preprocess_creation_modele_habitation.ipynb#X40sZmlsZQ%3D%3D?line=4'>5</a>\u001b[0m seine_et_marneDf[\u001b[39m\"\u001b[39m\u001b[39mnew_commune\u001b[39m\u001b[39m\"\u001b[39m] \u001b[39m=\u001b[39m (\u001b[39m\"\u001b[39;49m\u001b[39m77\u001b[39;49m\u001b[39m\"\u001b[39;49m \u001b[39m+\u001b[39;49m\n\u001b[0;32m----> <a href='vscode-notebook-cell:/Users/matrice/Documents/Ecole/Use%20Cases/immobilier_seine_et_marne/preprocess_creation_modele_habitation.ipynb#X40sZmlsZQ%3D%3D?line=5'>6</a>\u001b[0m                                    seine_et_marneDf[\u001b[39m\"\u001b[39;49m\u001b[39mCode commune\u001b[39;49m\u001b[39m\"\u001b[39;49m]\u001b[39m.\u001b[39;49mastype(\u001b[39mstr\u001b[39;49m)\u001b[39m.\u001b[39;49mstr\u001b[39m.\u001b[39;49mzfill(\u001b[39m3\u001b[39;49m))\u001b[39m.\u001b[39;49mastype(\u001b[39m\"\u001b[39;49m\u001b[39mInt64\u001b[39;49m\u001b[39m\"\u001b[39;49m)\n\u001b[1;32m      <a href='vscode-notebook-cell:/Users/matrice/Documents/Ecole/Use%20Cases/immobilier_seine_et_marne/preprocess_creation_modele_habitation.ipynb#X40sZmlsZQ%3D%3D?line=6'>7</a>\u001b[0m seine_et_marneDf[\u001b[39m\"\u001b[39m\u001b[39mnew_commune\u001b[39m\u001b[39m\"\u001b[39m]\n",
      "File \u001b[0;32m/opt/homebrew/lib/python3.10/site-packages/pandas/core/generic.py:6324\u001b[0m, in \u001b[0;36mNDFrame.astype\u001b[0;34m(self, dtype, copy, errors)\u001b[0m\n\u001b[1;32m   6317\u001b[0m     results \u001b[39m=\u001b[39m [\n\u001b[1;32m   6318\u001b[0m         \u001b[39mself\u001b[39m\u001b[39m.\u001b[39miloc[:, i]\u001b[39m.\u001b[39mastype(dtype, copy\u001b[39m=\u001b[39mcopy)\n\u001b[1;32m   6319\u001b[0m         \u001b[39mfor\u001b[39;00m i \u001b[39min\u001b[39;00m \u001b[39mrange\u001b[39m(\u001b[39mlen\u001b[39m(\u001b[39mself\u001b[39m\u001b[39m.\u001b[39mcolumns))\n\u001b[1;32m   6320\u001b[0m     ]\n\u001b[1;32m   6322\u001b[0m \u001b[39melse\u001b[39;00m:\n\u001b[1;32m   6323\u001b[0m     \u001b[39m# else, only a single dtype is given\u001b[39;00m\n\u001b[0;32m-> 6324\u001b[0m     new_data \u001b[39m=\u001b[39m \u001b[39mself\u001b[39;49m\u001b[39m.\u001b[39;49m_mgr\u001b[39m.\u001b[39;49mastype(dtype\u001b[39m=\u001b[39;49mdtype, copy\u001b[39m=\u001b[39;49mcopy, errors\u001b[39m=\u001b[39;49merrors)\n\u001b[1;32m   6325\u001b[0m     \u001b[39mreturn\u001b[39;00m \u001b[39mself\u001b[39m\u001b[39m.\u001b[39m_constructor(new_data)\u001b[39m.\u001b[39m__finalize__(\u001b[39mself\u001b[39m, method\u001b[39m=\u001b[39m\u001b[39m\"\u001b[39m\u001b[39mastype\u001b[39m\u001b[39m\"\u001b[39m)\n\u001b[1;32m   6327\u001b[0m \u001b[39m# GH 33113: handle empty frame or series\u001b[39;00m\n",
      "File \u001b[0;32m/opt/homebrew/lib/python3.10/site-packages/pandas/core/internals/managers.py:451\u001b[0m, in \u001b[0;36mBaseBlockManager.astype\u001b[0;34m(self, dtype, copy, errors)\u001b[0m\n\u001b[1;32m    448\u001b[0m \u001b[39melif\u001b[39;00m using_copy_on_write():\n\u001b[1;32m    449\u001b[0m     copy \u001b[39m=\u001b[39m \u001b[39mFalse\u001b[39;00m\n\u001b[0;32m--> 451\u001b[0m \u001b[39mreturn\u001b[39;00m \u001b[39mself\u001b[39;49m\u001b[39m.\u001b[39;49mapply(\n\u001b[1;32m    452\u001b[0m     \u001b[39m\"\u001b[39;49m\u001b[39mastype\u001b[39;49m\u001b[39m\"\u001b[39;49m,\n\u001b[1;32m    453\u001b[0m     dtype\u001b[39m=\u001b[39;49mdtype,\n\u001b[1;32m    454\u001b[0m     copy\u001b[39m=\u001b[39;49mcopy,\n\u001b[1;32m    455\u001b[0m     errors\u001b[39m=\u001b[39;49merrors,\n\u001b[1;32m    456\u001b[0m     using_cow\u001b[39m=\u001b[39;49musing_copy_on_write(),\n\u001b[1;32m    457\u001b[0m )\n",
      "File \u001b[0;32m/opt/homebrew/lib/python3.10/site-packages/pandas/core/internals/managers.py:352\u001b[0m, in \u001b[0;36mBaseBlockManager.apply\u001b[0;34m(self, f, align_keys, **kwargs)\u001b[0m\n\u001b[1;32m    350\u001b[0m         applied \u001b[39m=\u001b[39m b\u001b[39m.\u001b[39mapply(f, \u001b[39m*\u001b[39m\u001b[39m*\u001b[39mkwargs)\n\u001b[1;32m    351\u001b[0m     \u001b[39melse\u001b[39;00m:\n\u001b[0;32m--> 352\u001b[0m         applied \u001b[39m=\u001b[39m \u001b[39mgetattr\u001b[39;49m(b, f)(\u001b[39m*\u001b[39;49m\u001b[39m*\u001b[39;49mkwargs)\n\u001b[1;32m    353\u001b[0m     result_blocks \u001b[39m=\u001b[39m extend_blocks(applied, result_blocks)\n\u001b[1;32m    355\u001b[0m out \u001b[39m=\u001b[39m \u001b[39mtype\u001b[39m(\u001b[39mself\u001b[39m)\u001b[39m.\u001b[39mfrom_blocks(result_blocks, \u001b[39mself\u001b[39m\u001b[39m.\u001b[39maxes)\n",
      "File \u001b[0;32m/opt/homebrew/lib/python3.10/site-packages/pandas/core/internals/blocks.py:511\u001b[0m, in \u001b[0;36mBlock.astype\u001b[0;34m(self, dtype, copy, errors, using_cow)\u001b[0m\n\u001b[1;32m    491\u001b[0m \u001b[39m\u001b[39m\u001b[39m\"\"\"\u001b[39;00m\n\u001b[1;32m    492\u001b[0m \u001b[39mCoerce to the new dtype.\u001b[39;00m\n\u001b[1;32m    493\u001b[0m \n\u001b[0;32m   (...)\u001b[0m\n\u001b[1;32m    507\u001b[0m \u001b[39mBlock\u001b[39;00m\n\u001b[1;32m    508\u001b[0m \u001b[39m\"\"\"\u001b[39;00m\n\u001b[1;32m    509\u001b[0m values \u001b[39m=\u001b[39m \u001b[39mself\u001b[39m\u001b[39m.\u001b[39mvalues\n\u001b[0;32m--> 511\u001b[0m new_values \u001b[39m=\u001b[39m astype_array_safe(values, dtype, copy\u001b[39m=\u001b[39;49mcopy, errors\u001b[39m=\u001b[39;49merrors)\n\u001b[1;32m    513\u001b[0m new_values \u001b[39m=\u001b[39m maybe_coerce_values(new_values)\n\u001b[1;32m    515\u001b[0m refs \u001b[39m=\u001b[39m \u001b[39mNone\u001b[39;00m\n",
      "File \u001b[0;32m/opt/homebrew/lib/python3.10/site-packages/pandas/core/dtypes/astype.py:242\u001b[0m, in \u001b[0;36mastype_array_safe\u001b[0;34m(values, dtype, copy, errors)\u001b[0m\n\u001b[1;32m    239\u001b[0m     dtype \u001b[39m=\u001b[39m dtype\u001b[39m.\u001b[39mnumpy_dtype\n\u001b[1;32m    241\u001b[0m \u001b[39mtry\u001b[39;00m:\n\u001b[0;32m--> 242\u001b[0m     new_values \u001b[39m=\u001b[39m astype_array(values, dtype, copy\u001b[39m=\u001b[39;49mcopy)\n\u001b[1;32m    243\u001b[0m \u001b[39mexcept\u001b[39;00m (\u001b[39mValueError\u001b[39;00m, \u001b[39mTypeError\u001b[39;00m):\n\u001b[1;32m    244\u001b[0m     \u001b[39m# e.g. _astype_nansafe can fail on object-dtype of strings\u001b[39;00m\n\u001b[1;32m    245\u001b[0m     \u001b[39m#  trying to convert to float\u001b[39;00m\n\u001b[1;32m    246\u001b[0m     \u001b[39mif\u001b[39;00m errors \u001b[39m==\u001b[39m \u001b[39m\"\u001b[39m\u001b[39mignore\u001b[39m\u001b[39m\"\u001b[39m:\n",
      "File \u001b[0;32m/opt/homebrew/lib/python3.10/site-packages/pandas/core/dtypes/astype.py:187\u001b[0m, in \u001b[0;36mastype_array\u001b[0;34m(values, dtype, copy)\u001b[0m\n\u001b[1;32m    184\u001b[0m     values \u001b[39m=\u001b[39m values\u001b[39m.\u001b[39mastype(dtype, copy\u001b[39m=\u001b[39mcopy)\n\u001b[1;32m    186\u001b[0m \u001b[39melse\u001b[39;00m:\n\u001b[0;32m--> 187\u001b[0m     values \u001b[39m=\u001b[39m _astype_nansafe(values, dtype, copy\u001b[39m=\u001b[39;49mcopy)\n\u001b[1;32m    189\u001b[0m \u001b[39m# in pandas we don't store numpy str dtypes, so convert to object\u001b[39;00m\n\u001b[1;32m    190\u001b[0m \u001b[39mif\u001b[39;00m \u001b[39misinstance\u001b[39m(dtype, np\u001b[39m.\u001b[39mdtype) \u001b[39mand\u001b[39;00m \u001b[39missubclass\u001b[39m(values\u001b[39m.\u001b[39mdtype\u001b[39m.\u001b[39mtype, \u001b[39mstr\u001b[39m):\n",
      "File \u001b[0;32m/opt/homebrew/lib/python3.10/site-packages/pandas/core/dtypes/astype.py:84\u001b[0m, in \u001b[0;36m_astype_nansafe\u001b[0;34m(arr, dtype, copy, skipna)\u001b[0m\n\u001b[1;32m     82\u001b[0m \u001b[39m# dispatch on extension dtype if needed\u001b[39;00m\n\u001b[1;32m     83\u001b[0m \u001b[39mif\u001b[39;00m \u001b[39misinstance\u001b[39m(dtype, ExtensionDtype):\n\u001b[0;32m---> 84\u001b[0m     \u001b[39mreturn\u001b[39;00m dtype\u001b[39m.\u001b[39;49mconstruct_array_type()\u001b[39m.\u001b[39;49m_from_sequence(arr, dtype\u001b[39m=\u001b[39;49mdtype, copy\u001b[39m=\u001b[39;49mcopy)\n\u001b[1;32m     86\u001b[0m \u001b[39melif\u001b[39;00m \u001b[39mnot\u001b[39;00m \u001b[39misinstance\u001b[39m(dtype, np\u001b[39m.\u001b[39mdtype):  \u001b[39m# pragma: no cover\u001b[39;00m\n\u001b[1;32m     87\u001b[0m     \u001b[39mraise\u001b[39;00m \u001b[39mValueError\u001b[39;00m(\u001b[39m\"\u001b[39m\u001b[39mdtype must be np.dtype or ExtensionDtype\u001b[39m\u001b[39m\"\u001b[39m)\n",
      "File \u001b[0;32m/opt/homebrew/lib/python3.10/site-packages/pandas/core/arrays/masked.py:140\u001b[0m, in \u001b[0;36mBaseMaskedArray._from_sequence\u001b[0;34m(cls, scalars, dtype, copy)\u001b[0m\n\u001b[1;32m    136\u001b[0m \u001b[39m@classmethod\u001b[39m\n\u001b[1;32m    137\u001b[0m \u001b[39mdef\u001b[39;00m \u001b[39m_from_sequence\u001b[39m(\n\u001b[1;32m    138\u001b[0m     \u001b[39mcls\u001b[39m: \u001b[39mtype\u001b[39m[BaseMaskedArrayT], scalars, \u001b[39m*\u001b[39m, dtype\u001b[39m=\u001b[39m\u001b[39mNone\u001b[39;00m, copy: \u001b[39mbool\u001b[39m \u001b[39m=\u001b[39m \u001b[39mFalse\u001b[39;00m\n\u001b[1;32m    139\u001b[0m ) \u001b[39m-\u001b[39m\u001b[39m>\u001b[39m BaseMaskedArrayT:\n\u001b[0;32m--> 140\u001b[0m     values, mask \u001b[39m=\u001b[39m \u001b[39mcls\u001b[39;49m\u001b[39m.\u001b[39;49m_coerce_to_array(scalars, dtype\u001b[39m=\u001b[39;49mdtype, copy\u001b[39m=\u001b[39;49mcopy)\n\u001b[1;32m    141\u001b[0m     \u001b[39mreturn\u001b[39;00m \u001b[39mcls\u001b[39m(values, mask)\n",
      "File \u001b[0;32m/opt/homebrew/lib/python3.10/site-packages/pandas/core/arrays/numeric.py:277\u001b[0m, in \u001b[0;36mNumericArray._coerce_to_array\u001b[0;34m(cls, value, dtype, copy)\u001b[0m\n\u001b[1;32m    275\u001b[0m default_dtype \u001b[39m=\u001b[39m dtype_cls\u001b[39m.\u001b[39m_default_np_dtype\n\u001b[1;32m    276\u001b[0m mask \u001b[39m=\u001b[39m \u001b[39mNone\u001b[39;00m\n\u001b[0;32m--> 277\u001b[0m values, mask, _, _ \u001b[39m=\u001b[39m _coerce_to_data_and_mask(\n\u001b[1;32m    278\u001b[0m     value, mask, dtype, copy, dtype_cls, default_dtype\n\u001b[1;32m    279\u001b[0m )\n\u001b[1;32m    280\u001b[0m \u001b[39mreturn\u001b[39;00m values, mask\n",
      "File \u001b[0;32m/opt/homebrew/lib/python3.10/site-packages/pandas/core/arrays/numeric.py:231\u001b[0m, in \u001b[0;36m_coerce_to_data_and_mask\u001b[0;34m(values, mask, dtype, copy, dtype_cls, default_dtype)\u001b[0m\n\u001b[1;32m    227\u001b[0m     values[mask] \u001b[39m=\u001b[39m \u001b[39mcls\u001b[39m\u001b[39m.\u001b[39m_internal_fill_value\n\u001b[1;32m    228\u001b[0m \u001b[39mif\u001b[39;00m inferred_type \u001b[39min\u001b[39;00m (\u001b[39m\"\u001b[39m\u001b[39mstring\u001b[39m\u001b[39m\"\u001b[39m, \u001b[39m\"\u001b[39m\u001b[39municode\u001b[39m\u001b[39m\"\u001b[39m):\n\u001b[1;32m    229\u001b[0m     \u001b[39m# casts from str are always safe since they raise\u001b[39;00m\n\u001b[1;32m    230\u001b[0m     \u001b[39m# a ValueError if the str cannot be parsed into a float\u001b[39;00m\n\u001b[0;32m--> 231\u001b[0m     values \u001b[39m=\u001b[39m values\u001b[39m.\u001b[39;49mastype(dtype, copy\u001b[39m=\u001b[39;49mcopy)\n\u001b[1;32m    232\u001b[0m \u001b[39melse\u001b[39;00m:\n\u001b[1;32m    233\u001b[0m     values \u001b[39m=\u001b[39m dtype_cls\u001b[39m.\u001b[39m_safe_cast(values, dtype, copy\u001b[39m=\u001b[39m\u001b[39mFalse\u001b[39;00m)\n",
      "\u001b[0;31mValueError\u001b[0m: invalid literal for int() with base 10: '77243.0'"
     ]
    }
   ],
   "source": [
    "seine_et_marneDf = dvfDf[dvfDf[\"Code departement\"] == \"77\"].copy(deep=True)\n",
    "del dvfDf\n",
    "seine_et_marneDf = seine_et_marneDf.dropna(\n",
    "    subset=[\"Valeur fonciere\"])\n",
    "seine_et_marneDf[\"new_commune\"] = (\"77\" +\n",
    "                                   seine_et_marneDf[\"Code commune\"].astype(str).str.zfill(3)).astype(\"Int64\")\n",
    "seine_et_marneDf[\"new_commune\"]"
   ]
  },
  {
   "cell_type": "code",
   "execution_count": null,
   "metadata": {},
   "outputs": [
    {
     "data": {
      "text/html": [
       "<div>\n",
       "<style scoped>\n",
       "    .dataframe tbody tr th:only-of-type {\n",
       "        vertical-align: middle;\n",
       "    }\n",
       "\n",
       "    .dataframe tbody tr th {\n",
       "        vertical-align: top;\n",
       "    }\n",
       "\n",
       "    .dataframe thead th {\n",
       "        text-align: right;\n",
       "    }\n",
       "</style>\n",
       "<table border=\"1\" class=\"dataframe\">\n",
       "  <thead>\n",
       "    <tr style=\"text-align: right;\">\n",
       "      <th></th>\n",
       "      <th>No disposition</th>\n",
       "      <th>Date mutation</th>\n",
       "      <th>Nature mutation</th>\n",
       "      <th>Valeur fonciere</th>\n",
       "      <th>No voie</th>\n",
       "      <th>Type de voie</th>\n",
       "      <th>Code voie</th>\n",
       "      <th>Voie</th>\n",
       "      <th>Code postal</th>\n",
       "      <th>Commune</th>\n",
       "      <th>...</th>\n",
       "      <th>No plan</th>\n",
       "      <th>Nombre de lots</th>\n",
       "      <th>Code type local</th>\n",
       "      <th>Type local</th>\n",
       "      <th>Surface reelle bati</th>\n",
       "      <th>Nombre pieces principales</th>\n",
       "      <th>Nature culture</th>\n",
       "      <th>Surface terrain</th>\n",
       "      <th>new_commune</th>\n",
       "      <th>Surface Totale</th>\n",
       "    </tr>\n",
       "  </thead>\n",
       "  <tbody>\n",
       "    <tr>\n",
       "      <th>1373477</th>\n",
       "      <td>1</td>\n",
       "      <td>2018-07-02</td>\n",
       "      <td>Vente</td>\n",
       "      <td>100000.0</td>\n",
       "      <td>92.0</td>\n",
       "      <td>RUE</td>\n",
       "      <td>1610</td>\n",
       "      <td>SAINT DENIS</td>\n",
       "      <td>77400</td>\n",
       "      <td>LAGNY-SUR-MARNE</td>\n",
       "      <td>...</td>\n",
       "      <td>417</td>\n",
       "      <td>1</td>\n",
       "      <td>2.0</td>\n",
       "      <td>Appartement</td>\n",
       "      <td>22.0</td>\n",
       "      <td>1</td>\n",
       "      <td>NaN</td>\n",
       "      <td>NaN</td>\n",
       "      <td>77243</td>\n",
       "      <td>22.0</td>\n",
       "    </tr>\n",
       "    <tr>\n",
       "      <th>1360974</th>\n",
       "      <td>1</td>\n",
       "      <td>2018-07-02</td>\n",
       "      <td>Vente</td>\n",
       "      <td>262000.0</td>\n",
       "      <td>NaN</td>\n",
       "      <td>NaN</td>\n",
       "      <td>B025</td>\n",
       "      <td>SAINT GERMAIN</td>\n",
       "      <td>77860</td>\n",
       "      <td>SAINT-GERMAIN-SUR-MORIN</td>\n",
       "      <td>...</td>\n",
       "      <td>133</td>\n",
       "      <td>0</td>\n",
       "      <td>NaN</td>\n",
       "      <td>Terrain</td>\n",
       "      <td>NaN</td>\n",
       "      <td>0</td>\n",
       "      <td>S</td>\n",
       "      <td>8.0</td>\n",
       "      <td>77413</td>\n",
       "      <td>8.0</td>\n",
       "    </tr>\n",
       "    <tr>\n",
       "      <th>1360973</th>\n",
       "      <td>1</td>\n",
       "      <td>2018-07-02</td>\n",
       "      <td>Vente</td>\n",
       "      <td>262000.0</td>\n",
       "      <td>5.0</td>\n",
       "      <td>RUE</td>\n",
       "      <td>0520</td>\n",
       "      <td>LOUIS DOUVIZIE</td>\n",
       "      <td>77860</td>\n",
       "      <td>SAINT-GERMAIN-SUR-MORIN</td>\n",
       "      <td>...</td>\n",
       "      <td>132</td>\n",
       "      <td>0</td>\n",
       "      <td>1.0</td>\n",
       "      <td>Maison</td>\n",
       "      <td>84.0</td>\n",
       "      <td>3</td>\n",
       "      <td>S</td>\n",
       "      <td>110.0</td>\n",
       "      <td>77413</td>\n",
       "      <td>194.0</td>\n",
       "    </tr>\n",
       "    <tr>\n",
       "      <th>1360972</th>\n",
       "      <td>1</td>\n",
       "      <td>2018-07-02</td>\n",
       "      <td>Vente</td>\n",
       "      <td>262000.0</td>\n",
       "      <td>NaN</td>\n",
       "      <td>NaN</td>\n",
       "      <td>B025</td>\n",
       "      <td>SAINT GERMAIN</td>\n",
       "      <td>77860</td>\n",
       "      <td>SAINT-GERMAIN-SUR-MORIN</td>\n",
       "      <td>...</td>\n",
       "      <td>131</td>\n",
       "      <td>0</td>\n",
       "      <td>NaN</td>\n",
       "      <td>Terrain</td>\n",
       "      <td>NaN</td>\n",
       "      <td>0</td>\n",
       "      <td>S</td>\n",
       "      <td>297.0</td>\n",
       "      <td>77413</td>\n",
       "      <td>297.0</td>\n",
       "    </tr>\n",
       "    <tr>\n",
       "      <th>1360971</th>\n",
       "      <td>1</td>\n",
       "      <td>2018-07-02</td>\n",
       "      <td>Vente</td>\n",
       "      <td>262000.0</td>\n",
       "      <td>NaN</td>\n",
       "      <td>NaN</td>\n",
       "      <td>B025</td>\n",
       "      <td>SAINT GERMAIN</td>\n",
       "      <td>77860</td>\n",
       "      <td>SAINT-GERMAIN-SUR-MORIN</td>\n",
       "      <td>...</td>\n",
       "      <td>130</td>\n",
       "      <td>0</td>\n",
       "      <td>NaN</td>\n",
       "      <td>Terrain</td>\n",
       "      <td>NaN</td>\n",
       "      <td>0</td>\n",
       "      <td>S</td>\n",
       "      <td>8.0</td>\n",
       "      <td>77413</td>\n",
       "      <td>8.0</td>\n",
       "    </tr>\n",
       "    <tr>\n",
       "      <th>...</th>\n",
       "      <td>...</td>\n",
       "      <td>...</td>\n",
       "      <td>...</td>\n",
       "      <td>...</td>\n",
       "      <td>...</td>\n",
       "      <td>...</td>\n",
       "      <td>...</td>\n",
       "      <td>...</td>\n",
       "      <td>...</td>\n",
       "      <td>...</td>\n",
       "      <td>...</td>\n",
       "      <td>...</td>\n",
       "      <td>...</td>\n",
       "      <td>...</td>\n",
       "      <td>...</td>\n",
       "      <td>...</td>\n",
       "      <td>...</td>\n",
       "      <td>...</td>\n",
       "      <td>...</td>\n",
       "      <td>...</td>\n",
       "      <td>...</td>\n",
       "    </tr>\n",
       "    <tr>\n",
       "      <th>1162200</th>\n",
       "      <td>1</td>\n",
       "      <td>2023-06-30</td>\n",
       "      <td>Vente</td>\n",
       "      <td>12500.0</td>\n",
       "      <td>28.0</td>\n",
       "      <td>RUE</td>\n",
       "      <td>1610</td>\n",
       "      <td>SAINT DENIS</td>\n",
       "      <td>77400</td>\n",
       "      <td>LAGNY-SUR-MARNE</td>\n",
       "      <td>...</td>\n",
       "      <td>145</td>\n",
       "      <td>1</td>\n",
       "      <td>3.0</td>\n",
       "      <td>Dépendance</td>\n",
       "      <td>0.0</td>\n",
       "      <td>0</td>\n",
       "      <td>NaN</td>\n",
       "      <td>NaN</td>\n",
       "      <td>77243</td>\n",
       "      <td>0.0</td>\n",
       "    </tr>\n",
       "    <tr>\n",
       "      <th>1162201</th>\n",
       "      <td>1</td>\n",
       "      <td>2023-06-30</td>\n",
       "      <td>Vente</td>\n",
       "      <td>790889.0</td>\n",
       "      <td>245.0</td>\n",
       "      <td>AV</td>\n",
       "      <td>0128</td>\n",
       "      <td>DE LA GRANDE HAIE</td>\n",
       "      <td>77100</td>\n",
       "      <td>MAREUIL-LES-MEAUX</td>\n",
       "      <td>...</td>\n",
       "      <td>520</td>\n",
       "      <td>0</td>\n",
       "      <td>4.0</td>\n",
       "      <td>Local industriel. commercial ou assimilé</td>\n",
       "      <td>1663.0</td>\n",
       "      <td>0</td>\n",
       "      <td>S</td>\n",
       "      <td>2630.0</td>\n",
       "      <td>77276</td>\n",
       "      <td>4293.0</td>\n",
       "    </tr>\n",
       "    <tr>\n",
       "      <th>1162202</th>\n",
       "      <td>1</td>\n",
       "      <td>2023-06-30</td>\n",
       "      <td>Vente</td>\n",
       "      <td>790889.0</td>\n",
       "      <td>245.0</td>\n",
       "      <td>AV</td>\n",
       "      <td>0128</td>\n",
       "      <td>DE LA GRANDE HAIE</td>\n",
       "      <td>77100</td>\n",
       "      <td>MAREUIL-LES-MEAUX</td>\n",
       "      <td>...</td>\n",
       "      <td>520</td>\n",
       "      <td>0</td>\n",
       "      <td>4.0</td>\n",
       "      <td>Local industriel. commercial ou assimilé</td>\n",
       "      <td>0.0</td>\n",
       "      <td>0</td>\n",
       "      <td>S</td>\n",
       "      <td>2630.0</td>\n",
       "      <td>77276</td>\n",
       "      <td>2630.0</td>\n",
       "    </tr>\n",
       "    <tr>\n",
       "      <th>1162203</th>\n",
       "      <td>1</td>\n",
       "      <td>2023-06-30</td>\n",
       "      <td>Vente</td>\n",
       "      <td>790889.0</td>\n",
       "      <td>NaN</td>\n",
       "      <td>AV</td>\n",
       "      <td>0128</td>\n",
       "      <td>DE LA GRANDE HAIE</td>\n",
       "      <td>77100</td>\n",
       "      <td>MAREUIL-LES-MEAUX</td>\n",
       "      <td>...</td>\n",
       "      <td>523</td>\n",
       "      <td>0</td>\n",
       "      <td>NaN</td>\n",
       "      <td>Terrain</td>\n",
       "      <td>NaN</td>\n",
       "      <td>0</td>\n",
       "      <td>S</td>\n",
       "      <td>1363.0</td>\n",
       "      <td>77276</td>\n",
       "      <td>1363.0</td>\n",
       "    </tr>\n",
       "    <tr>\n",
       "      <th>1162204</th>\n",
       "      <td>1</td>\n",
       "      <td>2023-06-30</td>\n",
       "      <td>Vente</td>\n",
       "      <td>790889.0</td>\n",
       "      <td>NaN</td>\n",
       "      <td>AV</td>\n",
       "      <td>0128</td>\n",
       "      <td>DE LA GRANDE HAIE</td>\n",
       "      <td>77100</td>\n",
       "      <td>MAREUIL-LES-MEAUX</td>\n",
       "      <td>...</td>\n",
       "      <td>528</td>\n",
       "      <td>0</td>\n",
       "      <td>NaN</td>\n",
       "      <td>Terrain</td>\n",
       "      <td>NaN</td>\n",
       "      <td>0</td>\n",
       "      <td>S</td>\n",
       "      <td>103.0</td>\n",
       "      <td>77276</td>\n",
       "      <td>103.0</td>\n",
       "    </tr>\n",
       "  </tbody>\n",
       "</table>\n",
       "<p>381369 rows × 23 columns</p>\n",
       "</div>"
      ],
      "text/plain": [
       "         No disposition Date mutation Nature mutation  Valeur fonciere  \\\n",
       "1373477               1    2018-07-02           Vente         100000.0   \n",
       "1360974               1    2018-07-02           Vente         262000.0   \n",
       "1360973               1    2018-07-02           Vente         262000.0   \n",
       "1360972               1    2018-07-02           Vente         262000.0   \n",
       "1360971               1    2018-07-02           Vente         262000.0   \n",
       "...                 ...           ...             ...              ...   \n",
       "1162200               1    2023-06-30           Vente          12500.0   \n",
       "1162201               1    2023-06-30           Vente         790889.0   \n",
       "1162202               1    2023-06-30           Vente         790889.0   \n",
       "1162203               1    2023-06-30           Vente         790889.0   \n",
       "1162204               1    2023-06-30           Vente         790889.0   \n",
       "\n",
       "         No voie Type de voie Code voie               Voie  Code postal  \\\n",
       "1373477     92.0          RUE      1610        SAINT DENIS        77400   \n",
       "1360974      NaN          NaN      B025      SAINT GERMAIN        77860   \n",
       "1360973      5.0          RUE      0520     LOUIS DOUVIZIE        77860   \n",
       "1360972      NaN          NaN      B025      SAINT GERMAIN        77860   \n",
       "1360971      NaN          NaN      B025      SAINT GERMAIN        77860   \n",
       "...          ...          ...       ...                ...          ...   \n",
       "1162200     28.0          RUE      1610        SAINT DENIS        77400   \n",
       "1162201    245.0           AV      0128  DE LA GRANDE HAIE        77100   \n",
       "1162202    245.0           AV      0128  DE LA GRANDE HAIE        77100   \n",
       "1162203      NaN           AV      0128  DE LA GRANDE HAIE        77100   \n",
       "1162204      NaN           AV      0128  DE LA GRANDE HAIE        77100   \n",
       "\n",
       "                         Commune  ... No plan  Nombre de lots Code type local  \\\n",
       "1373477          LAGNY-SUR-MARNE  ...     417               1             2.0   \n",
       "1360974  SAINT-GERMAIN-SUR-MORIN  ...     133               0             NaN   \n",
       "1360973  SAINT-GERMAIN-SUR-MORIN  ...     132               0             1.0   \n",
       "1360972  SAINT-GERMAIN-SUR-MORIN  ...     131               0             NaN   \n",
       "1360971  SAINT-GERMAIN-SUR-MORIN  ...     130               0             NaN   \n",
       "...                          ...  ...     ...             ...             ...   \n",
       "1162200          LAGNY-SUR-MARNE  ...     145               1             3.0   \n",
       "1162201        MAREUIL-LES-MEAUX  ...     520               0             4.0   \n",
       "1162202        MAREUIL-LES-MEAUX  ...     520               0             4.0   \n",
       "1162203        MAREUIL-LES-MEAUX  ...     523               0             NaN   \n",
       "1162204        MAREUIL-LES-MEAUX  ...     528               0             NaN   \n",
       "\n",
       "                                       Type local  Surface reelle bati  \\\n",
       "1373477                               Appartement                 22.0   \n",
       "1360974                                   Terrain                  NaN   \n",
       "1360973                                    Maison                 84.0   \n",
       "1360972                                   Terrain                  NaN   \n",
       "1360971                                   Terrain                  NaN   \n",
       "...                                           ...                  ...   \n",
       "1162200                                Dépendance                  0.0   \n",
       "1162201  Local industriel. commercial ou assimilé               1663.0   \n",
       "1162202  Local industriel. commercial ou assimilé                  0.0   \n",
       "1162203                                   Terrain                  NaN   \n",
       "1162204                                   Terrain                  NaN   \n",
       "\n",
       "         Nombre pieces principales Nature culture  Surface terrain  \\\n",
       "1373477                          1            NaN              NaN   \n",
       "1360974                          0              S              8.0   \n",
       "1360973                          3              S            110.0   \n",
       "1360972                          0              S            297.0   \n",
       "1360971                          0              S              8.0   \n",
       "...                            ...            ...              ...   \n",
       "1162200                          0            NaN              NaN   \n",
       "1162201                          0              S           2630.0   \n",
       "1162202                          0              S           2630.0   \n",
       "1162203                          0              S           1363.0   \n",
       "1162204                          0              S            103.0   \n",
       "\n",
       "         new_commune Surface Totale  \n",
       "1373477        77243           22.0  \n",
       "1360974        77413            8.0  \n",
       "1360973        77413          194.0  \n",
       "1360972        77413          297.0  \n",
       "1360971        77413            8.0  \n",
       "...              ...            ...  \n",
       "1162200        77243            0.0  \n",
       "1162201        77276         4293.0  \n",
       "1162202        77276         2630.0  \n",
       "1162203        77276         1363.0  \n",
       "1162204        77276          103.0  \n",
       "\n",
       "[381369 rows x 23 columns]"
      ]
     },
     "execution_count": 12,
     "metadata": {},
     "output_type": "execute_result"
    }
   ],
   "source": [
    "seine_et_marneDf[\"Surface Totale\"] = seine_et_marneDf.loc[:, seine_et_marneDf.columns.str.contains(\n",
    "    \"Surface\")].applymap(lambda x: float(x.replace(\",\", \".\")) if type(x) != float else x).sum(axis=1, skipna=True)\n",
    "seine_et_marneDf"
   ]
  },
  {
   "cell_type": "code",
   "execution_count": 13,
   "metadata": {},
   "outputs": [],
   "source": [
    "seine_et_marneDf.to_csv(\"data/seine_et_marne.csv\", index=False)"
   ]
  },
  {
   "cell_type": "markdown",
   "metadata": {},
   "source": [
    "## Création du modèle"
   ]
  },
  {
   "cell_type": "code",
   "execution_count": 18,
   "metadata": {},
   "outputs": [
    {
     "data": {
      "text/html": [
       "<div>\n",
       "<style scoped>\n",
       "    .dataframe tbody tr th:only-of-type {\n",
       "        vertical-align: middle;\n",
       "    }\n",
       "\n",
       "    .dataframe tbody tr th {\n",
       "        vertical-align: top;\n",
       "    }\n",
       "\n",
       "    .dataframe thead th {\n",
       "        text-align: right;\n",
       "    }\n",
       "</style>\n",
       "<table border=\"1\" class=\"dataframe\">\n",
       "  <thead>\n",
       "    <tr style=\"text-align: right;\">\n",
       "      <th></th>\n",
       "      <th>new_commune</th>\n",
       "      <th>Type local</th>\n",
       "      <th>Surface Totale</th>\n",
       "      <th>Nombre pieces principales</th>\n",
       "      <th>Date mutation</th>\n",
       "    </tr>\n",
       "  </thead>\n",
       "  <tbody>\n",
       "    <tr>\n",
       "      <th>3513434</th>\n",
       "      <td>77288</td>\n",
       "      <td>Terrain</td>\n",
       "      <td>0.0</td>\n",
       "      <td>0</td>\n",
       "      <td>2022-03-25</td>\n",
       "    </tr>\n",
       "    <tr>\n",
       "      <th>3651933</th>\n",
       "      <td>77349</td>\n",
       "      <td>Terrain</td>\n",
       "      <td>554.0</td>\n",
       "      <td>0</td>\n",
       "      <td>2021-12-27</td>\n",
       "    </tr>\n",
       "    <tr>\n",
       "      <th>2701911</th>\n",
       "      <td>77350</td>\n",
       "      <td>Terrain</td>\n",
       "      <td>8.0</td>\n",
       "      <td>0</td>\n",
       "      <td>2020-12-21</td>\n",
       "    </tr>\n",
       "    <tr>\n",
       "      <th>2784594</th>\n",
       "      <td>77464</td>\n",
       "      <td>Maison</td>\n",
       "      <td>593.0</td>\n",
       "      <td>5</td>\n",
       "      <td>2019-06-21</td>\n",
       "    </tr>\n",
       "    <tr>\n",
       "      <th>2757994</th>\n",
       "      <td>77371</td>\n",
       "      <td>Terrain</td>\n",
       "      <td>1164.0</td>\n",
       "      <td>0</td>\n",
       "      <td>2019-07-11</td>\n",
       "    </tr>\n",
       "    <tr>\n",
       "      <th>...</th>\n",
       "      <td>...</td>\n",
       "      <td>...</td>\n",
       "      <td>...</td>\n",
       "      <td>...</td>\n",
       "      <td>...</td>\n",
       "    </tr>\n",
       "    <tr>\n",
       "      <th>2690361</th>\n",
       "      <td>77458</td>\n",
       "      <td>Terrain</td>\n",
       "      <td>773.0</td>\n",
       "      <td>0</td>\n",
       "      <td>2020-09-04</td>\n",
       "    </tr>\n",
       "    <tr>\n",
       "      <th>3618630</th>\n",
       "      <td>77108</td>\n",
       "      <td>Appartement</td>\n",
       "      <td>62.0</td>\n",
       "      <td>3</td>\n",
       "      <td>2021-01-22</td>\n",
       "    </tr>\n",
       "    <tr>\n",
       "      <th>1375901</th>\n",
       "      <td>77181</td>\n",
       "      <td>Dépendance</td>\n",
       "      <td>0.0</td>\n",
       "      <td>0</td>\n",
       "      <td>2018-08-27</td>\n",
       "    </tr>\n",
       "    <tr>\n",
       "      <th>1137316</th>\n",
       "      <td>77288</td>\n",
       "      <td>Appartement</td>\n",
       "      <td>90.0</td>\n",
       "      <td>3</td>\n",
       "      <td>2023-03-22</td>\n",
       "    </tr>\n",
       "    <tr>\n",
       "      <th>3589680</th>\n",
       "      <td>77058</td>\n",
       "      <td>Terrain</td>\n",
       "      <td>0.0</td>\n",
       "      <td>0</td>\n",
       "      <td>2022-12-26</td>\n",
       "    </tr>\n",
       "  </tbody>\n",
       "</table>\n",
       "<p>305095 rows × 5 columns</p>\n",
       "</div>"
      ],
      "text/plain": [
       "         new_commune   Type local  Surface Totale  Nombre pieces principales  \\\n",
       "3513434        77288      Terrain             0.0                          0   \n",
       "3651933        77349      Terrain           554.0                          0   \n",
       "2701911        77350      Terrain             8.0                          0   \n",
       "2784594        77464       Maison           593.0                          5   \n",
       "2757994        77371      Terrain          1164.0                          0   \n",
       "...              ...          ...             ...                        ...   \n",
       "2690361        77458      Terrain           773.0                          0   \n",
       "3618630        77108  Appartement            62.0                          3   \n",
       "1375901        77181   Dépendance             0.0                          0   \n",
       "1137316        77288  Appartement            90.0                          3   \n",
       "3589680        77058      Terrain             0.0                          0   \n",
       "\n",
       "        Date mutation  \n",
       "3513434    2022-03-25  \n",
       "3651933    2021-12-27  \n",
       "2701911    2020-12-21  \n",
       "2784594    2019-06-21  \n",
       "2757994    2019-07-11  \n",
       "...               ...  \n",
       "2690361    2020-09-04  \n",
       "3618630    2021-01-22  \n",
       "1375901    2018-08-27  \n",
       "1137316    2023-03-22  \n",
       "3589680    2022-12-26  \n",
       "\n",
       "[305095 rows x 5 columns]"
      ]
     },
     "execution_count": 18,
     "metadata": {},
     "output_type": "execute_result"
    }
   ],
   "source": [
    "# modeling the evolution of the price of property with a sklearn using new_commune, Type local, Surface Totale, Nombre pieces principales, and Date mutation\n",
    "from sklearn.model_selection import train_test_split\n",
    "\n",
    "numeric_features = [\"Surface Totale\", \"Nombre pieces principales\"]\n",
    "categorical_features = [\"new_commune\", \"Type local\"]\n",
    "date_features = [\"Date mutation\"]\n",
    "\n",
    "def preparation_data(df, numeric_features, categorical_features, date_features, test_size=0.2):\n",
    "    X = df[numeric_features + categorical_features + date_features]\n",
    "    y = df[\"Valeur fonciere\"]\n",
    "\n",
    "    return train_test_split(X, y, test_size=test_size, random_state=42)\n",
    "\n",
    "X_train, X_test, y_train, y_test = preparation_data(seine_et_marneDf, numeric_features, categorical_features, date_features)"
   ]
  },
  {
   "cell_type": "code",
   "execution_count": 31,
   "metadata": {},
   "outputs": [
    {
     "name": "stdout",
     "output_type": "stream",
     "text": [
      "[Pipeline] ...... (step 1 of 2) Processing preprocessor, total=   0.5s\n",
      "[Pipeline] ......... (step 2 of 2) Processing regressor, total= 8.9min\n"
     ]
    },
    {
     "data": {
      "text/plain": [
       "0.9188754763963021"
      ]
     },
     "execution_count": 31,
     "metadata": {},
     "output_type": "execute_result"
    }
   ],
   "source": [
    "from sklearn.ensemble import RandomForestRegressor\n",
    "from sklearn.preprocessing import OneHotEncoder\n",
    "from sklearn.compose import ColumnTransformer\n",
    "from sklearn.pipeline import FunctionTransformer, Pipeline\n",
    "from sklearn.preprocessing import RobustScaler\n",
    "\n",
    "def creation_model(numeric_features, categorical_features, date_features):\n",
    "    numeric_transformer = Pipeline(steps=[\n",
    "        ('scaler', RobustScaler())])\n",
    "\n",
    "    categorical_transformer = Pipeline(steps=[\n",
    "        ('onehot', OneHotEncoder(handle_unknown='ignore'))])\n",
    "\n",
    "\n",
    "    def date_convert_to_timestamp(X):\n",
    "        return X.values.astype(int) // 10 ** 9\n",
    "\n",
    "\n",
    "    date_transformer = FunctionTransformer(date_convert_to_timestamp)\n",
    "\n",
    "    preprocessor = ColumnTransformer(\n",
    "        transformers=[\n",
    "                                    ('num', numeric_transformer, numeric_features),\n",
    "                                    ('cat', categorical_transformer,\n",
    "                                    categorical_features),\n",
    "                                    ('date', date_transformer, date_features)], remainder=\"passthrough\")\n",
    "\n",
    "    model = Pipeline(steps=[('preprocessor', preprocessor),\n",
    "                            ('regressor', RandomForestRegressor(n_jobs=-1, random_state=42))], verbose=True)\n",
    "\n",
    "    model.fit(X_train, y_train)\n",
    "\n",
    "    return model\n",
    "\n",
    "model = creation_model(numeric_features, categorical_features, date_features)\n",
    "\n",
    "y_pred = model.predict(X_test)\n",
    "model.score(X_test, y_test)"
   ]
  },
  {
   "cell_type": "code",
   "execution_count": 32,
   "metadata": {},
   "outputs": [
    {
     "data": {
      "text/plain": [
       "1324465249446.7327"
      ]
     },
     "execution_count": 32,
     "metadata": {},
     "output_type": "execute_result"
    }
   ],
   "source": [
    "from sklearn.metrics import mean_squared_error\n",
    "mean_squared_error(y_test, model.predict(X_test), squared=False)"
   ]
  },
  {
   "cell_type": "code",
   "execution_count": 33,
   "metadata": {},
   "outputs": [],
   "source": [
    "import pickle\n",
    "\n",
    "pickle.dump(model, open(\"long_training_model.pkl\", \"wb\"))"
   ]
  },
  {
   "cell_type": "code",
   "execution_count": 24,
   "metadata": {},
   "outputs": [
    {
     "name": "stdout",
     "output_type": "stream",
     "text": [
      "[Pipeline] ...... (step 1 of 3) Processing preprocessor, total=   0.3s\n",
      "[Pipeline] .......... (step 2 of 3) Processing to_numpy, total=   0.3s\n",
      "[Pipeline] ......... (step 3 of 3) Processing regressor, total=  28.1s\n"
     ]
    },
    {
     "data": {
      "text/plain": [
       "0.8051892548100184"
      ]
     },
     "execution_count": 24,
     "metadata": {},
     "output_type": "execute_result"
    }
   ],
   "source": [
    "from sklearn.ensemble import HistGradientBoostingRegressor\n",
    "from sklearn.preprocessing import OneHotEncoder\n",
    "from sklearn.compose import ColumnTransformer\n",
    "from sklearn.pipeline import FunctionTransformer, Pipeline\n",
    "from sklearn.preprocessing import RobustScaler\n",
    "\n",
    "numeric_features = [\"Surface Totale\", \"Nombre pieces principales\"]\n",
    "categorical_features = [\"new_commune\", \"Type local\"]\n",
    "date_features = [\"Date mutation\"]\n",
    "\n",
    "\n",
    "numeric_transformer = Pipeline(steps=[\n",
    "    ('scaler', RobustScaler())])\n",
    "\n",
    "categorical_transformer = Pipeline(steps=[\n",
    "    ('onehot', OneHotEncoder(handle_unknown='ignore'))])\n",
    "\n",
    "\n",
    "def date_convert_to_timestamp(X):\n",
    "    return X.values.astype(int) // 10 ** 9\n",
    "\n",
    "\n",
    "def preprocessed_todense(X):\n",
    "    return X.toarray()\n",
    "\n",
    "\n",
    "date_transformer = FunctionTransformer(date_convert_to_timestamp)\n",
    "\n",
    "tonumpy_transformer = FunctionTransformer(preprocessed_todense)\n",
    "\n",
    "preprocessor = ColumnTransformer(\n",
    "    transformers=[\n",
    "                                ('num', numeric_transformer, numeric_features),\n",
    "                                ('cat', categorical_transformer,\n",
    "                                 categorical_features),\n",
    "                                ('date', date_transformer, date_features)], remainder=\"passthrough\")\n",
    "\n",
    "best_hgb_model = Pipeline(steps=[('preprocessor', preprocessor),\n",
    "                                 ('to_numpy', tonumpy_transformer),\n",
    "                                 ('regressor', HistGradientBoostingRegressor(categorical_features=[2, 3], random_state=42, learning_rate=0.1, max_depth=5, max_iter=200, max_leaf_nodes=15, min_samples_leaf=9))], verbose=True)\n",
    "best_hgb_model.fit(X_train, y_train)\n",
    "best_hgb_model.score(X_test, y_test)"
   ]
  },
  {
   "cell_type": "code",
   "execution_count": 27,
   "metadata": {},
   "outputs": [
    {
     "name": "stdout",
     "output_type": "stream",
     "text": [
      "HGB MSE:  3180543327236.147\n",
      "RF  MSE:  1324465249446.7327\n"
     ]
    }
   ],
   "source": [
    "print(\"HGB RMSE: \", mean_squared_error(\n",
    "    y_test, best_hgb_model.predict(X_test), squared=False))\n",
    "print(\"RF  RMSE: \", mean_squared_error(y_test, model.predict(X_test), squared=False))"
   ]
  },
  {
   "cell_type": "code",
   "execution_count": 28,
   "metadata": {},
   "outputs": [
    {
     "data": {
      "application/vnd.plotly.v1+json": {
       "config": {
        "plotlyServerURL": "https://plot.ly"
       },
       "data": [
        {
         "hovertemplate": "variable=0<br>index=%{x}<br>value=%{y}<extra></extra>",
         "legendgroup": "0",
         "line": {
          "color": "#636efa",
          "dash": "solid"
         },
         "marker": {
          "symbol": "circle"
         },
         "mode": "lines",
         "name": "0",
         "orientation": "v",
         "showlegend": true,
         "type": "scatter",
         "x": [
          "2023-01-31T00:00:00",
          "2023-02-28T00:00:00",
          "2023-03-31T00:00:00",
          "2023-04-30T00:00:00",
          "2023-05-31T00:00:00",
          "2023-06-30T00:00:00",
          "2023-07-31T00:00:00",
          "2023-08-31T00:00:00",
          "2023-09-30T00:00:00",
          "2023-10-31T00:00:00",
          "2023-11-30T00:00:00",
          "2023-12-31T00:00:00"
         ],
         "xaxis": "x",
         "y": [
          192397.5,
          194651,
          200502,
          203864.5,
          195357,
          207261,
          207261,
          207261,
          207261,
          207261,
          207261,
          207261
         ],
         "yaxis": "y"
        }
       ],
       "layout": {
        "legend": {
         "title": {
          "text": "variable"
         },
         "tracegroupgap": 0
        },
        "template": {
         "data": {
          "bar": [
           {
            "error_x": {
             "color": "#2a3f5f"
            },
            "error_y": {
             "color": "#2a3f5f"
            },
            "marker": {
             "line": {
              "color": "#E5ECF6",
              "width": 0.5
             },
             "pattern": {
              "fillmode": "overlay",
              "size": 10,
              "solidity": 0.2
             }
            },
            "type": "bar"
           }
          ],
          "barpolar": [
           {
            "marker": {
             "line": {
              "color": "#E5ECF6",
              "width": 0.5
             },
             "pattern": {
              "fillmode": "overlay",
              "size": 10,
              "solidity": 0.2
             }
            },
            "type": "barpolar"
           }
          ],
          "carpet": [
           {
            "aaxis": {
             "endlinecolor": "#2a3f5f",
             "gridcolor": "white",
             "linecolor": "white",
             "minorgridcolor": "white",
             "startlinecolor": "#2a3f5f"
            },
            "baxis": {
             "endlinecolor": "#2a3f5f",
             "gridcolor": "white",
             "linecolor": "white",
             "minorgridcolor": "white",
             "startlinecolor": "#2a3f5f"
            },
            "type": "carpet"
           }
          ],
          "choropleth": [
           {
            "colorbar": {
             "outlinewidth": 0,
             "ticks": ""
            },
            "type": "choropleth"
           }
          ],
          "contour": [
           {
            "colorbar": {
             "outlinewidth": 0,
             "ticks": ""
            },
            "colorscale": [
             [
              0,
              "#0d0887"
             ],
             [
              0.1111111111111111,
              "#46039f"
             ],
             [
              0.2222222222222222,
              "#7201a8"
             ],
             [
              0.3333333333333333,
              "#9c179e"
             ],
             [
              0.4444444444444444,
              "#bd3786"
             ],
             [
              0.5555555555555556,
              "#d8576b"
             ],
             [
              0.6666666666666666,
              "#ed7953"
             ],
             [
              0.7777777777777778,
              "#fb9f3a"
             ],
             [
              0.8888888888888888,
              "#fdca26"
             ],
             [
              1,
              "#f0f921"
             ]
            ],
            "type": "contour"
           }
          ],
          "contourcarpet": [
           {
            "colorbar": {
             "outlinewidth": 0,
             "ticks": ""
            },
            "type": "contourcarpet"
           }
          ],
          "heatmap": [
           {
            "colorbar": {
             "outlinewidth": 0,
             "ticks": ""
            },
            "colorscale": [
             [
              0,
              "#0d0887"
             ],
             [
              0.1111111111111111,
              "#46039f"
             ],
             [
              0.2222222222222222,
              "#7201a8"
             ],
             [
              0.3333333333333333,
              "#9c179e"
             ],
             [
              0.4444444444444444,
              "#bd3786"
             ],
             [
              0.5555555555555556,
              "#d8576b"
             ],
             [
              0.6666666666666666,
              "#ed7953"
             ],
             [
              0.7777777777777778,
              "#fb9f3a"
             ],
             [
              0.8888888888888888,
              "#fdca26"
             ],
             [
              1,
              "#f0f921"
             ]
            ],
            "type": "heatmap"
           }
          ],
          "heatmapgl": [
           {
            "colorbar": {
             "outlinewidth": 0,
             "ticks": ""
            },
            "colorscale": [
             [
              0,
              "#0d0887"
             ],
             [
              0.1111111111111111,
              "#46039f"
             ],
             [
              0.2222222222222222,
              "#7201a8"
             ],
             [
              0.3333333333333333,
              "#9c179e"
             ],
             [
              0.4444444444444444,
              "#bd3786"
             ],
             [
              0.5555555555555556,
              "#d8576b"
             ],
             [
              0.6666666666666666,
              "#ed7953"
             ],
             [
              0.7777777777777778,
              "#fb9f3a"
             ],
             [
              0.8888888888888888,
              "#fdca26"
             ],
             [
              1,
              "#f0f921"
             ]
            ],
            "type": "heatmapgl"
           }
          ],
          "histogram": [
           {
            "marker": {
             "pattern": {
              "fillmode": "overlay",
              "size": 10,
              "solidity": 0.2
             }
            },
            "type": "histogram"
           }
          ],
          "histogram2d": [
           {
            "colorbar": {
             "outlinewidth": 0,
             "ticks": ""
            },
            "colorscale": [
             [
              0,
              "#0d0887"
             ],
             [
              0.1111111111111111,
              "#46039f"
             ],
             [
              0.2222222222222222,
              "#7201a8"
             ],
             [
              0.3333333333333333,
              "#9c179e"
             ],
             [
              0.4444444444444444,
              "#bd3786"
             ],
             [
              0.5555555555555556,
              "#d8576b"
             ],
             [
              0.6666666666666666,
              "#ed7953"
             ],
             [
              0.7777777777777778,
              "#fb9f3a"
             ],
             [
              0.8888888888888888,
              "#fdca26"
             ],
             [
              1,
              "#f0f921"
             ]
            ],
            "type": "histogram2d"
           }
          ],
          "histogram2dcontour": [
           {
            "colorbar": {
             "outlinewidth": 0,
             "ticks": ""
            },
            "colorscale": [
             [
              0,
              "#0d0887"
             ],
             [
              0.1111111111111111,
              "#46039f"
             ],
             [
              0.2222222222222222,
              "#7201a8"
             ],
             [
              0.3333333333333333,
              "#9c179e"
             ],
             [
              0.4444444444444444,
              "#bd3786"
             ],
             [
              0.5555555555555556,
              "#d8576b"
             ],
             [
              0.6666666666666666,
              "#ed7953"
             ],
             [
              0.7777777777777778,
              "#fb9f3a"
             ],
             [
              0.8888888888888888,
              "#fdca26"
             ],
             [
              1,
              "#f0f921"
             ]
            ],
            "type": "histogram2dcontour"
           }
          ],
          "mesh3d": [
           {
            "colorbar": {
             "outlinewidth": 0,
             "ticks": ""
            },
            "type": "mesh3d"
           }
          ],
          "parcoords": [
           {
            "line": {
             "colorbar": {
              "outlinewidth": 0,
              "ticks": ""
             }
            },
            "type": "parcoords"
           }
          ],
          "pie": [
           {
            "automargin": true,
            "type": "pie"
           }
          ],
          "scatter": [
           {
            "fillpattern": {
             "fillmode": "overlay",
             "size": 10,
             "solidity": 0.2
            },
            "type": "scatter"
           }
          ],
          "scatter3d": [
           {
            "line": {
             "colorbar": {
              "outlinewidth": 0,
              "ticks": ""
             }
            },
            "marker": {
             "colorbar": {
              "outlinewidth": 0,
              "ticks": ""
             }
            },
            "type": "scatter3d"
           }
          ],
          "scattercarpet": [
           {
            "marker": {
             "colorbar": {
              "outlinewidth": 0,
              "ticks": ""
             }
            },
            "type": "scattercarpet"
           }
          ],
          "scattergeo": [
           {
            "marker": {
             "colorbar": {
              "outlinewidth": 0,
              "ticks": ""
             }
            },
            "type": "scattergeo"
           }
          ],
          "scattergl": [
           {
            "marker": {
             "colorbar": {
              "outlinewidth": 0,
              "ticks": ""
             }
            },
            "type": "scattergl"
           }
          ],
          "scattermapbox": [
           {
            "marker": {
             "colorbar": {
              "outlinewidth": 0,
              "ticks": ""
             }
            },
            "type": "scattermapbox"
           }
          ],
          "scatterpolar": [
           {
            "marker": {
             "colorbar": {
              "outlinewidth": 0,
              "ticks": ""
             }
            },
            "type": "scatterpolar"
           }
          ],
          "scatterpolargl": [
           {
            "marker": {
             "colorbar": {
              "outlinewidth": 0,
              "ticks": ""
             }
            },
            "type": "scatterpolargl"
           }
          ],
          "scatterternary": [
           {
            "marker": {
             "colorbar": {
              "outlinewidth": 0,
              "ticks": ""
             }
            },
            "type": "scatterternary"
           }
          ],
          "surface": [
           {
            "colorbar": {
             "outlinewidth": 0,
             "ticks": ""
            },
            "colorscale": [
             [
              0,
              "#0d0887"
             ],
             [
              0.1111111111111111,
              "#46039f"
             ],
             [
              0.2222222222222222,
              "#7201a8"
             ],
             [
              0.3333333333333333,
              "#9c179e"
             ],
             [
              0.4444444444444444,
              "#bd3786"
             ],
             [
              0.5555555555555556,
              "#d8576b"
             ],
             [
              0.6666666666666666,
              "#ed7953"
             ],
             [
              0.7777777777777778,
              "#fb9f3a"
             ],
             [
              0.8888888888888888,
              "#fdca26"
             ],
             [
              1,
              "#f0f921"
             ]
            ],
            "type": "surface"
           }
          ],
          "table": [
           {
            "cells": {
             "fill": {
              "color": "#EBF0F8"
             },
             "line": {
              "color": "white"
             }
            },
            "header": {
             "fill": {
              "color": "#C8D4E3"
             },
             "line": {
              "color": "white"
             }
            },
            "type": "table"
           }
          ]
         },
         "layout": {
          "annotationdefaults": {
           "arrowcolor": "#2a3f5f",
           "arrowhead": 0,
           "arrowwidth": 1
          },
          "autotypenumbers": "strict",
          "coloraxis": {
           "colorbar": {
            "outlinewidth": 0,
            "ticks": ""
           }
          },
          "colorscale": {
           "diverging": [
            [
             0,
             "#8e0152"
            ],
            [
             0.1,
             "#c51b7d"
            ],
            [
             0.2,
             "#de77ae"
            ],
            [
             0.3,
             "#f1b6da"
            ],
            [
             0.4,
             "#fde0ef"
            ],
            [
             0.5,
             "#f7f7f7"
            ],
            [
             0.6,
             "#e6f5d0"
            ],
            [
             0.7,
             "#b8e186"
            ],
            [
             0.8,
             "#7fbc41"
            ],
            [
             0.9,
             "#4d9221"
            ],
            [
             1,
             "#276419"
            ]
           ],
           "sequential": [
            [
             0,
             "#0d0887"
            ],
            [
             0.1111111111111111,
             "#46039f"
            ],
            [
             0.2222222222222222,
             "#7201a8"
            ],
            [
             0.3333333333333333,
             "#9c179e"
            ],
            [
             0.4444444444444444,
             "#bd3786"
            ],
            [
             0.5555555555555556,
             "#d8576b"
            ],
            [
             0.6666666666666666,
             "#ed7953"
            ],
            [
             0.7777777777777778,
             "#fb9f3a"
            ],
            [
             0.8888888888888888,
             "#fdca26"
            ],
            [
             1,
             "#f0f921"
            ]
           ],
           "sequentialminus": [
            [
             0,
             "#0d0887"
            ],
            [
             0.1111111111111111,
             "#46039f"
            ],
            [
             0.2222222222222222,
             "#7201a8"
            ],
            [
             0.3333333333333333,
             "#9c179e"
            ],
            [
             0.4444444444444444,
             "#bd3786"
            ],
            [
             0.5555555555555556,
             "#d8576b"
            ],
            [
             0.6666666666666666,
             "#ed7953"
            ],
            [
             0.7777777777777778,
             "#fb9f3a"
            ],
            [
             0.8888888888888888,
             "#fdca26"
            ],
            [
             1,
             "#f0f921"
            ]
           ]
          },
          "colorway": [
           "#636efa",
           "#EF553B",
           "#00cc96",
           "#ab63fa",
           "#FFA15A",
           "#19d3f3",
           "#FF6692",
           "#B6E880",
           "#FF97FF",
           "#FECB52"
          ],
          "font": {
           "color": "#2a3f5f"
          },
          "geo": {
           "bgcolor": "white",
           "lakecolor": "white",
           "landcolor": "#E5ECF6",
           "showlakes": true,
           "showland": true,
           "subunitcolor": "white"
          },
          "hoverlabel": {
           "align": "left"
          },
          "hovermode": "closest",
          "mapbox": {
           "style": "light"
          },
          "paper_bgcolor": "white",
          "plot_bgcolor": "#E5ECF6",
          "polar": {
           "angularaxis": {
            "gridcolor": "white",
            "linecolor": "white",
            "ticks": ""
           },
           "bgcolor": "#E5ECF6",
           "radialaxis": {
            "gridcolor": "white",
            "linecolor": "white",
            "ticks": ""
           }
          },
          "scene": {
           "xaxis": {
            "backgroundcolor": "#E5ECF6",
            "gridcolor": "white",
            "gridwidth": 2,
            "linecolor": "white",
            "showbackground": true,
            "ticks": "",
            "zerolinecolor": "white"
           },
           "yaxis": {
            "backgroundcolor": "#E5ECF6",
            "gridcolor": "white",
            "gridwidth": 2,
            "linecolor": "white",
            "showbackground": true,
            "ticks": "",
            "zerolinecolor": "white"
           },
           "zaxis": {
            "backgroundcolor": "#E5ECF6",
            "gridcolor": "white",
            "gridwidth": 2,
            "linecolor": "white",
            "showbackground": true,
            "ticks": "",
            "zerolinecolor": "white"
           }
          },
          "shapedefaults": {
           "line": {
            "color": "#2a3f5f"
           }
          },
          "ternary": {
           "aaxis": {
            "gridcolor": "white",
            "linecolor": "white",
            "ticks": ""
           },
           "baxis": {
            "gridcolor": "white",
            "linecolor": "white",
            "ticks": ""
           },
           "bgcolor": "#E5ECF6",
           "caxis": {
            "gridcolor": "white",
            "linecolor": "white",
            "ticks": ""
           }
          },
          "title": {
           "x": 0.05
          },
          "xaxis": {
           "automargin": true,
           "gridcolor": "white",
           "linecolor": "white",
           "ticks": "",
           "title": {
            "standoff": 15
           },
           "zerolinecolor": "white",
           "zerolinewidth": 2
          },
          "yaxis": {
           "automargin": true,
           "gridcolor": "white",
           "linecolor": "white",
           "ticks": "",
           "title": {
            "standoff": 15
           },
           "zerolinecolor": "white",
           "zerolinewidth": 2
          }
         }
        },
        "title": {
         "text": "Evolution of the price of property in 77078 for a 100m2 house with 4 rooms"
        },
        "xaxis": {
         "anchor": "y",
         "domain": [
          0,
          1
         ],
         "title": {
          "text": "index"
         }
        },
        "yaxis": {
         "anchor": "x",
         "domain": [
          0,
          1
         ],
         "title": {
          "text": "value"
         }
        }
       }
      }
     },
     "metadata": {},
     "output_type": "display_data"
    }
   ],
   "source": [
    "import plotly.express as px\n",
    "# Make a prediction for the next year for a 100m2 house with 4 rooms in 77078 and plot the evolution of the price of property\n",
    "\n",
    "fh = pd.date_range(start=\"2023-01-01\", end=\"2024-01-01\", freq=\"M\")\n",
    "\n",
    "forecast = model.predict(\n",
    "    pd.DataFrame({\"new_commune\": [77078]*len(fh), \"Type local\": [\"Maison\"]*len(fh), \"Surface Totale\": [100]*len(fh), \"Nombre pieces principales\": [4]*len(fh), \"Date mutation\": fh}))\n",
    "forecast = pd.Series(forecast, index=fh)\n",
    "px.line(forecast, title=\"Evolution of the price of property in 77078 for a 100m2 house with 4 rooms\")"
   ]
  }
 ],
 "metadata": {
  "kernelspec": {
   "display_name": "Python 3",
   "language": "python",
   "name": "python3"
  },
  "language_info": {
   "codemirror_mode": {
    "name": "ipython",
    "version": 3
   },
   "file_extension": ".py",
   "mimetype": "text/x-python",
   "name": "python",
   "nbconvert_exporter": "python",
   "pygments_lexer": "ipython3",
   "version": "3.10.13"
  }
 },
 "nbformat": 4,
 "nbformat_minor": 2
}
